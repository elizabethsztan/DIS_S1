{
 "cells": [
  {
   "cell_type": "markdown",
   "metadata": {},
   "source": [
    "## Comparing sweights vs MLE\n",
    "\n",
    "Compare sWeights and MLE on the same data."
   ]
  },
  {
   "cell_type": "code",
   "execution_count": 1,
   "metadata": {},
   "outputs": [],
   "source": [
    "#import essential packages\n",
    "import numpy as np\n",
    "import matplotlib.pyplot as plt\n",
    "import scipy\n",
    "import pandas as pd\n",
    "\n",
    "#defining the pdfs \n",
    "from scipy.stats import crystalball, norm\n",
    "\n",
    "#for finding maximum of total pdf, curve fit\n",
    "from scipy.optimize import minimize, curve_fit\n",
    "\n",
    "#EML fit\n",
    "from iminuit import Minuit\n",
    "from iminuit.cost import ExtendedUnbinnedNLL\n",
    "\n",
    "#sWeights package\n",
    "from sweights import SWeight\n",
    "\n",
    "#timing how long functions take\n",
    "import timeit\n",
    "\n",
    "#show the loading bar\n",
    "from tqdm import tqdm\n",
    "\n",
    "#plotting uncertainties\n",
    "from uncertainties import ufloat"
   ]
  },
  {
   "cell_type": "code",
   "execution_count": 2,
   "metadata": {},
   "outputs": [],
   "source": [
    "#define the functions using scipy stats \n",
    "#commented out scipy stats functions because they are slower\n",
    "#defined equations instead\n",
    "\n",
    "#signal for X\n",
    "def g_s(X, beta, m, mu, sigma):\n",
    "    return crystalball.pdf(X, beta, m, mu, sigma) / (crystalball.cdf(5.0, beta, m, mu, sigma) - crystalball.cdf(0.0, beta, m, mu, sigma))\n",
    "\n",
    "# def h_s(Y, lmbda):\n",
    "#     trunc_b = (10.0 - 0.0)*lmbda\n",
    "#     return truncexpon.pdf(Y, trunc_b, 0.0, 1/lmbda)\n",
    "\n",
    "\n",
    "#signal for Y\n",
    "def h_s(Y, lmbda):\n",
    "    pdf = lmbda * np.exp(-lmbda * Y)\n",
    "    norm_factor = 1 - np.exp(-10 * lmbda)\n",
    "    return pdf / norm_factor\n",
    "\n",
    "# def g_b(X):\n",
    "#     return uniform.pdf(X, 0.0, 5.0)\n",
    "\n",
    "#background for X\n",
    "def g_b(X):\n",
    "    if isinstance(X, (float, int)): #scalar input\n",
    "        return 1/5.0 if 0 <= X <= 5 else 0\n",
    "    else:  # numpy array input\n",
    "        return np.where((X >= 0) & (X <= 5), 1/5.0, 0)\n",
    "\n",
    "# def h_b(Y, mu_b, sigma_b):\n",
    "#     a = (mu_b - 0.0)/sigma_b\n",
    "#     b = (10.0 - mu_b)/sigma_b\n",
    "#     return truncnorm.pdf(Y, a, b, mu_b, sigma_b)\n",
    "\n",
    "#background for Y\n",
    "def h_b(Y, mu_b, sigma_b):\n",
    "    pdf = (1/(sigma_b * np.sqrt(2*np.pi))) * np.exp(-(Y - mu_b)**2 / (2*sigma_b**2))\n",
    "    norm_factor = norm.cdf(10, mu_b, sigma_b) - norm.cdf(0, mu_b, sigma_b)\n",
    "    return pdf / norm_factor\n",
    "\n",
    "#marginal distribution in X\n",
    "def marg_X(X, f, mu, sigma, beta, m):\n",
    "    return f*g_s(X, beta, m, mu, sigma) + (1-f)*g_b(X)\n",
    "\n",
    "#marginal distribution in Y\n",
    "def marg_Y(Y, f, lmbda, mu_b, sigma_b):\n",
    "    return f*h_s (Y, lmbda) + (1-f)*h_b(Y, mu_b, sigma_b)\n",
    "\n",
    "#total signal distribution\n",
    "def signal(X, Y, mu, sigma, beta, m, f, lmbda):\n",
    "    return f * g_s(X, beta, m, mu, sigma) * h_s(Y, lmbda)\n",
    "\n",
    "#total background distribution \n",
    "def background(X, Y, f, mu_b, sigma_b):\n",
    "    return (1-f) * g_b(X) * h_b(Y, mu_b, sigma_b)\n",
    "\n",
    "#total joint distribution\n",
    "def total(X, Y, mu, sigma, beta, m, f, lmbda, mu_b, sigma_b):\n",
    "    return signal(X, Y, mu, sigma, beta, m, f, lmbda) + background(X, Y, f, mu_b, sigma_b)\n"
   ]
  },
  {
   "cell_type": "code",
   "execution_count": 3,
   "metadata": {},
   "outputs": [],
   "source": [
    "#Create find max of this 2d function\n",
    "def find_fmax_2d(func, x_range = (0.0, 5.0), y_range = (0.0, 10.0)):\n",
    "    f_to_min = lambda vars: -func(vars[0], vars[1])\n",
    "    initial_guess = [0,1]\n",
    "    result = minimize(f_to_min, x0 = initial_guess, bounds = [x_range, y_range])\n",
    "    max_x, max_y = result.x\n",
    "    max_f = func(max_x, max_y)\n",
    "    return max_f\n",
    "\n",
    "#quicker accept reject sampler\n",
    "def accept_reject_2d(func, x_range = [0, 5], y_range = [0, 10], num_samples=50, seed=1, batch_size=1000):\n",
    "\n",
    "    np.random.seed(seed)\n",
    "    \n",
    "    x_samples = []\n",
    "    y_samples = []\n",
    "\n",
    "    f_max = find_fmax_2d(func)\n",
    "    \n",
    "    while len(x_samples) < num_samples:\n",
    "        # Generate a batch of random samples\n",
    "        x_temp = np.random.uniform(x_range[0], x_range[1], batch_size)\n",
    "        y_temp = np.random.uniform(y_range[0], y_range[1], batch_size)\n",
    "        f_temp = np.random.uniform(0, f_max, batch_size)\n",
    "        \n",
    "        # Evaluate the function for the batch\n",
    "        f_values = func(x_temp, y_temp)\n",
    "        \n",
    "        # Apply the acceptance criterion\n",
    "        accepted = f_temp < f_values\n",
    "        \n",
    "        # Append accepted samples\n",
    "        x_samples.extend(x_temp[accepted])\n",
    "        y_samples.extend(y_temp[accepted])\n",
    "    \n",
    "    # Convert lists to arrays and trim to the desired number of samples\n",
    "    x_samples = np.array(x_samples[:num_samples])\n",
    "    y_samples = np.array(y_samples[:num_samples])\n",
    "    \n",
    "    return x_samples, y_samples"
   ]
  },
  {
   "cell_type": "code",
   "execution_count": 51,
   "metadata": {},
   "outputs": [],
   "source": [
    "#Parametric bootstrapping\n",
    "#ensembles of 250 samples. Each sample has size 500, 1000, 2500, 5000, 10000\n",
    "\n",
    "N_sample = [500, 1000, 2500, 5000, 10000] #number of samples per toy\n",
    "param_names = ['N', '\\mu', '\\sigma', '\\\\beta', 'm', 'f', '\\lambda', '\\mu_b', '\\sigma_b']\n",
    "true_values = [3, 0.3, 1, 1.4, 0.6, 0.3, 0, 2.5]#except N which differs\n",
    "fitted_values = np.loadtxt('data_storage/fitted_values.csv', delimiter=',')\n",
    "fitted_values = fitted_values[1:] #get rid of the N value because we will change this for each bootstrap\n",
    "\n",
    "#create new joint distribution with fitted parameters instead\n",
    "def total_fixed_fitted(X, Y):\n",
    "    return total(\n",
    "        X, Y, \n",
    "        mu=fitted_values[0], sigma=fitted_values[1], beta=fitted_values[2], m=fitted_values[3], \n",
    "        f=fitted_values[4], lmbda=fitted_values[5], mu_b=fitted_values[6], sigma_b=fitted_values[7]\n",
    "    )\n",
    "\n",
    "def model_density(data, N, mu, sigma, beta, m, f, lmbda, mu_b, sigma_b):\n",
    "\n",
    "    X, Y = data\n",
    "\n",
    "    g_s = crystalball.pdf(X, beta, m, mu, sigma) / max((crystalball.cdf(5.0, beta, m, mu, sigma) - crystalball.cdf(0.0, beta, m, mu, sigma)), 1e-10)\n",
    "\n",
    "    pdf = lmbda * np.exp(-lmbda * Y)\n",
    "    norm_factor = 1 - np.exp(-10 * lmbda)\n",
    "    h_s = pdf/norm_factor\n",
    "\n",
    "    g_b = np.where((X >= 0) & (X <= 5), 1/5.0, 0)\n",
    "\n",
    "    pdf0 = (1/(sigma_b * np.sqrt(2*np.pi))) * np.exp(-(Y - mu_b)**2 / (2*sigma_b**2))\n",
    "    norm_factor0 = norm.cdf(10, mu_b, sigma_b) - norm.cdf(0, mu_b, sigma_b)\n",
    "    h_b = pdf0/norm_factor0\n",
    "\n",
    "    signal = f * g_s * h_s\n",
    "    background = (1-f) * g_b * h_b\n",
    "\n",
    "    total = signal + background\n",
    "\n",
    "    return N, N*total\n",
    "\n",
    "#Make a bootstrap of size N\n",
    "def generate_bootstrap (N, seed = 1):\n",
    "    N = np.random.poisson(N)\n",
    "    x_samples, y_samples = accept_reject_2d(total_fixed_fitted, num_samples=N, seed = seed)\n",
    "    \n",
    "    return x_samples, y_samples\n",
    "\n",
    "#make an ensemble of these bootstrapped value \n",
    "def generate_ensemble(N_sample, N_ensemble = 250):\n",
    "    toys = [generate_bootstrap(N_sample, seed= i) for i in tqdm(range(N_ensemble))]\n",
    "    return toys \n",
    "\n",
    "#fit a sample using the fitted values \n",
    "def fit_model(data, N_sample):\n",
    "    X, Y = data\n",
    "    nll = ExtendedUnbinnedNLL((X,Y), model_density)\n",
    "    #starting params\n",
    "    mi = Minuit(nll, \n",
    "            N=N_sample,\n",
    "            mu=fitted_values[0], \n",
    "            sigma=fitted_values[1], \n",
    "            beta=fitted_values[2], \n",
    "            m=fitted_values[3], \n",
    "            f=fitted_values[4], \n",
    "            lmbda=fitted_values[5], \n",
    "            mu_b=fitted_values[6], \n",
    "            sigma_b=fitted_values[7])\n",
    "    #limits\n",
    "    mi.limits[\"N\"] = (0, None)\n",
    "    mi.limits[\"beta\"] = (0, 10)\n",
    "    mi.limits[\"m\"] = (1, 10)\n",
    "    mi.limits['sigma'] = (0,None)\n",
    "    mi.limits['sigma_b'] = (0, None)\n",
    "\n",
    "    mi.migrad()\n",
    "    mi.hesse()\n",
    "\n",
    "    return mi"
   ]
  },
  {
   "cell_type": "code",
   "execution_count": null,
   "metadata": {},
   "outputs": [],
   "source": [
    "#sweights code\n",
    "\n",
    "#New model density for X\n",
    "def X_model_density(X, Ns, Nb, mu, sigma, beta, m):\n",
    "\n",
    "    #define pdfs again here, because it is quicker for the minimiser\n",
    "    g_s = crystalball.pdf(X, beta, m, mu, sigma) / max((crystalball.cdf(5.0, beta, m, mu, sigma) - crystalball.cdf(0.0, beta, m, mu, sigma)), 1e-10) #just in case it gets so small\n",
    "\n",
    "    #g_b = uniform.pdf(X, 0.0, 5.0)\n",
    "    g_b = np.where((X >= 0) & (X <= 5), 1/5.0, 0)\n",
    "\n",
    "    signal = Ns * g_s\n",
    "    background = Nb * g_b\n",
    "\n",
    "    total = signal + background\n",
    "\n",
    "    return Ns+Nb, total\n",
    "\n",
    "def fit_X_model_density (data, N_sample):\n",
    "\n",
    "    X, Y = data\n",
    "    #fit the X data\n",
    "    nll = ExtendedUnbinnedNLL(X, X_model_density)\n",
    "\n",
    "    mi = Minuit(nll, \n",
    "                Ns = N_sample * fitted_values[4],\n",
    "                Nb = N_sample * (1-fitted_values[4]),\n",
    "                mu=fitted_values[0],\n",
    "                sigma=fitted_values[1],\n",
    "                beta=fitted_values[2],\n",
    "                m=fitted_values[3]\n",
    ")\n",
    "\n",
    "    #input limits\n",
    "    mi.limits[\"Ns\"] = (0, None)\n",
    "    mi.limits[\"Nb\"] = (0, None)\n",
    "    mi.limits[\"beta\"] = (0, 10)\n",
    "    mi.limits[\"m\"] = (1, 10)\n",
    "    mi.limits[\"sigma\"] = (0, 10)\n",
    "\n",
    "    mi.migrad()\n",
    "    mi.hesse()\n",
    "\n",
    "    return mi\n",
    "\n",
    "def get_sweights (data, mi):\n",
    "    \n",
    "    X, Y = data\n",
    "    #define pdfs to put into sWeights\n",
    "    spdf = lambda x: g_s(x, mi.values['beta'], mi.values['m'], mi.values['mu'], mi.values['sigma'])\n",
    "    bpdf = lambda x: g_b(x)\n",
    "    sweight = SWeight(X, [spdf, bpdf], yields = [mi.values['Ns'], mi.values['Nb']], discvarranges=([0,5],), verbose = False, checks = False)\n",
    "    \n",
    "    sw = sweight.get_weight(0, X)\n",
    "    #bw = sweight.get_weight(1, X)\n",
    "    ysw, ye = np.histogram(Y, bins = 50, range = [0,10], weights = sw, density = True)\n",
    "    cy = 0.5 * (ye[1:] + ye[:-1]) \n",
    "\n",
    "    popt, _ = curve_fit(lambda y, lmbda: h_s(y, lmbda), cy, ysw, fitted_values[5])\n",
    "    lmbda_sw = popt[0]\n",
    "\n",
    "    return lmbda_sw"
   ]
  },
  {
   "cell_type": "code",
   "execution_count": null,
   "metadata": {},
   "outputs": [],
   "source": [
    "def bootstrap(N_sample, N_ensemble = 250):\n",
    "    #generate toys \n",
    "    toys = generate_ensemble(N_sample, N_ensemble= N_ensemble)\n",
    "    print('Finished generating samples')\n",
    "    values = []\n",
    "    errors = []\n",
    "    invalid_fits = 0\n",
    "    invalid_fits_sw = 0\n",
    "    lmbdas_sw = []\n",
    "    print('Fitting samples.')\n",
    "\n",
    "    #fit all of the toys\n",
    "    for toy in tqdm(toys):\n",
    "        #MLE fit of params\n",
    "        mi = fit_model(toy, N_sample)\n",
    "        if mi.valid:\n",
    "            values.append(list(mi.values))\n",
    "            errors.append(list(mi.errors))\n",
    "        else:\n",
    "            invalid_fits += 1\n",
    "        #sweight fit of lmbda \n",
    "        mi_X = fit_X_model_density(toy, N_sample)\n",
    "        if mi_X.valid:\n",
    "            lmbda_sw = get_sweights(toy, mi_X)\n",
    "            lmbdas_sw.append(lmbda_sw)\n",
    "        else:\n",
    "            invalid_fits_sw += 1\n",
    "        \n",
    "        #print(len(mi.values))\n",
    "\n",
    "    #get the values, errors and pulls\n",
    "    values = np.array(values)\n",
    "    #print(len(values[0]))\n",
    "    errors = np.array(errors)\n",
    "    #print(errors)\n",
    "    fitted_values_t = np.concatenate((np.array([N_sample]), fitted_values))\n",
    "    #print(len(fitted_values_t))\n",
    "    pulls = (values - fitted_values_t)/errors\n",
    "\n",
    "    #save MLE fits\n",
    "    np.savetxt(f'data_storage/bootstraps/bootstrap_{N_sample}.csv', \n",
    "           np.column_stack((values, errors, pulls)), \n",
    "           delimiter=',',\n",
    "           header='values, errors, pulls')\n",
    "    \n",
    "    np.savetxt(f'data_storage/bootstraps_sweights/bootstrap_{N_sample}.csv', \n",
    "               lmbdas_sw, delimiter= ',', header = 'estimated lmbda')\n",
    "    \n",
    "    print(f'Invalid fits for MLE are {invalid_fits} out of {N_ensemble} toys')\n",
    "    print(f'Invalid fits for sWeights are {invalid_fits_sw} out of {N_ensemble} toys')\n",
    "\n",
    "    return None"
   ]
  },
  {
   "cell_type": "code",
   "execution_count": 28,
   "metadata": {},
   "outputs": [
    {
     "name": "stderr",
     "output_type": "stream",
     "text": [
      "100%|██████████| 250/250 [00:06<00:00, 39.64it/s]\n"
     ]
    },
    {
     "name": "stdout",
     "output_type": "stream",
     "text": [
      "Finished generating samples\n",
      "Fitting samples.\n"
     ]
    },
    {
     "name": "stderr",
     "output_type": "stream",
     "text": [
      "100%|██████████| 250/250 [02:13<00:00,  1.88it/s]\n"
     ]
    },
    {
     "name": "stdout",
     "output_type": "stream",
     "text": [
      "Invalid fits for MLE are 9 out of 500 samples\n",
      "Invalid fits for sWeights are 1 out of 500 samples\n"
     ]
    },
    {
     "name": "stderr",
     "output_type": "stream",
     "text": [
      "100%|██████████| 250/250 [00:07<00:00, 32.93it/s]\n"
     ]
    },
    {
     "name": "stdout",
     "output_type": "stream",
     "text": [
      "Finished generating samples\n",
      "Fitting samples.\n"
     ]
    },
    {
     "name": "stderr",
     "output_type": "stream",
     "text": [
      " 36%|███▌      | 90/250 [00:58<01:42,  1.56it/s]C:\\Users\\eliza\\AppData\\Local\\Temp\\ipykernel_31860\\1110388164.py:7: RuntimeWarning: divide by zero encountered in divide\n",
      "  g_s = crystalball.pdf(X, beta, m, mu, sigma) / (crystalball.cdf(5.0, beta, m, mu, sigma) - crystalball.cdf(0.0, beta, m, mu, sigma))\n",
      "100%|██████████| 250/250 [02:42<00:00,  1.54it/s]\n"
     ]
    },
    {
     "name": "stdout",
     "output_type": "stream",
     "text": [
      "Invalid fits for MLE are 13 out of 1000 samples\n",
      "Invalid fits for sWeights are 0 out of 1000 samples\n"
     ]
    },
    {
     "name": "stderr",
     "output_type": "stream",
     "text": [
      "100%|██████████| 250/250 [00:12<00:00, 20.23it/s]\n"
     ]
    },
    {
     "name": "stdout",
     "output_type": "stream",
     "text": [
      "Finished generating samples\n",
      "Fitting samples.\n"
     ]
    },
    {
     "name": "stderr",
     "output_type": "stream",
     "text": [
      "100%|██████████| 250/250 [03:08<00:00,  1.33it/s]\n"
     ]
    },
    {
     "name": "stdout",
     "output_type": "stream",
     "text": [
      "Invalid fits for MLE are 10 out of 2500 samples\n",
      "Invalid fits for sWeights are 0 out of 2500 samples\n"
     ]
    },
    {
     "name": "stderr",
     "output_type": "stream",
     "text": [
      "100%|██████████| 250/250 [00:15<00:00, 15.87it/s]\n"
     ]
    },
    {
     "name": "stdout",
     "output_type": "stream",
     "text": [
      "Finished generating samples\n",
      "Fitting samples.\n"
     ]
    },
    {
     "name": "stderr",
     "output_type": "stream",
     "text": [
      "100%|██████████| 250/250 [03:56<00:00,  1.06it/s]\n"
     ]
    },
    {
     "name": "stdout",
     "output_type": "stream",
     "text": [
      "Invalid fits for MLE are 9 out of 5000 samples\n",
      "Invalid fits for sWeights are 1 out of 5000 samples\n"
     ]
    },
    {
     "name": "stderr",
     "output_type": "stream",
     "text": [
      "100%|██████████| 250/250 [00:27<00:00,  8.97it/s]\n"
     ]
    },
    {
     "name": "stdout",
     "output_type": "stream",
     "text": [
      "Finished generating samples\n",
      "Fitting samples.\n"
     ]
    },
    {
     "name": "stderr",
     "output_type": "stream",
     "text": [
      " 15%|█▌        | 38/250 [00:58<05:21,  1.52s/it]C:\\Users\\eliza\\AppData\\Local\\Temp\\ipykernel_31860\\1110388164.py:7: RuntimeWarning: invalid value encountered in divide\n",
      "  g_s = crystalball.pdf(X, beta, m, mu, sigma) / (crystalball.cdf(5.0, beta, m, mu, sigma) - crystalball.cdf(0.0, beta, m, mu, sigma))\n",
      "100%|██████████| 250/250 [06:20<00:00,  1.52s/it]"
     ]
    },
    {
     "name": "stdout",
     "output_type": "stream",
     "text": [
      "Invalid fits for MLE are 5 out of 10000 samples\n",
      "Invalid fits for sWeights are 0 out of 10000 samples\n"
     ]
    },
    {
     "name": "stderr",
     "output_type": "stream",
     "text": [
      "\n"
     ]
    }
   ],
   "source": [
    "N_samples = [500, 1000, 2500, 5000, 10000]\n",
    "for N_sample in N_samples:\n",
    "    bootstrap(N_sample)"
   ]
  },
  {
   "cell_type": "code",
   "execution_count": 42,
   "metadata": {},
   "outputs": [],
   "source": [
    "lmbdas_sw_500 = np.loadtxt('data_storage/bootstraps_sweights/bootstrap_500.csv')\n",
    "lmbdas_sw_1000 = np.loadtxt('data_storage/bootstraps_sweights/bootstrap_1000.csv')\n",
    "lmbdas_sw_2500 = np.loadtxt('data_storage/bootstraps_sweights/bootstrap_2500.csv')\n",
    "lmbdas_sw_5000 = np.loadtxt('data_storage/bootstraps_sweights/bootstrap_5000.csv')\n",
    "lmbdas_sw_10000 = np.loadtxt('data_storage/bootstraps_sweights/bootstrap_10000.csv')\n",
    "\n",
    "data_list_sw = [lmbdas_sw_500, lmbdas_sw_1000, lmbdas_sw_2500, lmbdas_sw_5000, lmbdas_sw_10000]\n",
    "data_list_sw = [lmbda[:230] for lmbda in data_list_sw] #cut to all the same length"
   ]
  },
  {
   "cell_type": "code",
   "execution_count": 52,
   "metadata": {},
   "outputs": [
    {
     "data": {
      "text/plain": [
       "[500, 1000, 2500, 5000, 10000]"
      ]
     },
     "execution_count": 52,
     "metadata": {},
     "output_type": "execute_result"
    }
   ],
   "source": [
    "def get_lmbdas_mean_sw(data_list):\n",
    "    lmbdas_mean = []\n",
    "    lmbdas_std = []\n",
    "    for lmbdas in data_list:\n",
    "        lmbdas_mean.append(np.mean(lmbdas))\n",
    "        lmbdas_std.append(np.std(lmbdas, ddof = 1)/np.sqrt(len(lmbdas)))\n",
    "    return lmbdas_mean, lmbdas_std\n",
    "lmbdas_mean_sw, lmbdas_std_sw = np.array(get_lmbdas_mean_sw(data_list_sw))\n",
    "lmbdas_bias_sw = lmbdas_mean_sw - fitted_values[5]\n",
    "\n",
    "N_samples"
   ]
  },
  {
   "cell_type": "code",
   "execution_count": 50,
   "metadata": {},
   "outputs": [
    {
     "data": {
      "text/plain": [
       "<matplotlib.lines.Line2D at 0x20dc6fcfca0>"
      ]
     },
     "execution_count": 50,
     "metadata": {},
     "output_type": "execute_result"
    },
    {
     "data": {
      "image/png": "[encoded data removed]",
      "text/plain": [
       "<Figure size 640x480 with 1 Axes>"
      ]
     },
     "metadata": {},
     "output_type": "display_data"
    }
   ],
   "source": [
    "plt.errorbar(N_samples, lmbdas_bias_sw, yerr = lmbdas_std_sw, fmt = 'rx', ls = '-')\n",
    "plt.xscale('log')\n",
    "plt.ylabel(r'Bias on $\\hat{\\lambda}$')\n",
    "plt.xlabel('Sample sizes')\n",
    "plt.axhline(y=0, color = 'black', ls = '--')"
   ]
  },
  {
   "cell_type": "code",
   "execution_count": 64,
   "metadata": {},
   "outputs": [
    {
     "data": {
      "text/plain": [
       "<matplotlib.legend.Legend at 0x20dccad0cd0>"
      ]
     },
     "execution_count": 64,
     "metadata": {},
     "output_type": "execute_result"
    },
    {
     "data": {
      "image/png": "[encoded data removed]",
      "text/plain": [
       "<Figure size 640x480 with 1 Axes>"
      ]
     },
     "metadata": {},
     "output_type": "display_data"
    }
   ],
   "source": [
    "#Log-log plot should show linear line\n",
    "\n",
    "log_var = np.log(lmbdas_std_sw)\n",
    "log_N = np.log(N_sample)\n",
    "coeffs = np.polyfit(log_N, log_var, 1)\n",
    "\n",
    "plt.plot(N_sample, lmbdas_std_sw, 'o',ls = '-', \n",
    "         label = rf'$\\log{{\\sigma_{{\\hat{{\\lambda}}}}}} = {coeffs[0]:.3f}\\log{{N}} + {coeffs[1]:.3f}$')\n",
    "#plt.errorbar(N_sample, lmbdas_var, yerr = lmbdas_var_std) error bars so small you cannot see them\n",
    "#plt.text(9, 0.31,r'$V(\\hat{\\lambda}) = $' + f'{coeffs[0]:.3f}' + r'$N$' + f'{coeffs[1]:.3f}', horizontalalignment='center',verticalalignment='center')\n",
    "plt.xscale('log')\n",
    "plt.yscale('log')\n",
    "plt.xlabel(r'Sample size, $N$')\n",
    "plt.ylabel(fr'$\\sigma_{{\\hat{{\\lambda}}}}$')\n",
    "plt.legend()"
   ]
  },
  {
   "cell_type": "code",
   "execution_count": null,
   "metadata": {},
   "outputs": [],
   "source": []
  }
 ],
 "metadata": {
  "kernelspec": {
   "display_name": "s1_coursework",
   "language": "python",
   "name": "python3"
  },
  "language_info": {
   "codemirror_mode": {
    "name": "ipython",
    "version": 3
   },
   "file_extension": ".py",
   "mimetype": "text/x-python",
   "name": "python",
   "nbconvert_exporter": "python",
   "pygments_lexer": "ipython3",
   "version": "3.10.15"
  }
 },
 "nbformat": 4,
 "nbformat_minor": 2
}
